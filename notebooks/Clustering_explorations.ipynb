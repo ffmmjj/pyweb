{
 "cells": [
  {
   "cell_type": "code",
   "execution_count": 2,
   "metadata": {
    "collapsed": false
   },
   "outputs": [],
   "source": [
    "%matplotlib inline\n",
    "import matplotlib\n",
    "import matplotlib.pyplot as pl"
   ]
  },
  {
   "cell_type": "markdown",
   "metadata": {},
   "source": [
    "# Execute all the cells below..."
   ]
  },
  {
   "cell_type": "code",
   "execution_count": 4,
   "metadata": {
    "collapsed": true
   },
   "outputs": [],
   "source": [
    "import base64\n",
    "from pyquery import PyQuery\n",
    "import unicodedata"
   ]
  },
  {
   "cell_type": "code",
   "execution_count": 5,
   "metadata": {
    "collapsed": true
   },
   "outputs": [],
   "source": [
    "def unicode_normalize(text):\n",
    "    return unicodedata.normalize('NFKD', unicode(text)).encode('ascii','ignore')"
   ]
  },
  {
   "cell_type": "code",
   "execution_count": 6,
   "metadata": {
    "collapsed": true
   },
   "outputs": [],
   "source": [
    "def parse_email(email_body):\n",
    "    email_parser = PyQuery(email_body)\n",
    "    email_fields = [unicode_normalize(span.text) for span in email_parser('div>span')]\n",
    "    \n",
    "    feature_names = ['remetente', 'email', 'assunto', 'tipo', 'data_envio', 'respondida?', 'mensagem_externa?']\n",
    "    features = dict(zip(feature_names, email_fields))\n",
    "    \n",
    "    features['mensagem'] = unicode_normalize(email_parser('div>div').text()).lower()\n",
    "    return features"
   ]
  },
  {
   "cell_type": "code",
   "execution_count": 7,
   "metadata": {
    "collapsed": false
   },
   "outputs": [],
   "source": [
    "messages = []\n",
    "input_file = open('INBOX.Arquivo Remoto.mbox')\n",
    "line = input_file.readline()\n",
    "while line:\n",
    "    if 'X-Proofpoint-Virus-Version' in line: \n",
    "        content = ''\n",
    "        input_file.readline()\n",
    "        line = input_file.readline()\n",
    "        line = ''\n",
    "        while line != '\\n':\n",
    "            line = input_file.readline()\n",
    "            content += line\n",
    "        messages.append(content)\n",
    "    line = input_file.readline()   \n",
    "\n",
    "decoded_emails = []\n",
    "for m in messages:\n",
    "    try:\n",
    "        decoded_message = [base64.b64decode(x) for x in m.split('\\n')]\n",
    "        decoded_message = ''.join(decoded_message)\n",
    "        decoded_emails.append(parse_email(decoded_message))\n",
    "    except:\n",
    "        pass"
   ]
  },
  {
   "cell_type": "markdown",
   "metadata": {},
   "source": [
    "# ... and from now on, *decoded_messages* contains the emails as a list of dicts :D"
   ]
  }
 ],
 "metadata": {
  "kernelspec": {
   "display_name": "Python 2",
   "language": "python",
   "name": "python2"
  },
  "language_info": {
   "codemirror_mode": {
    "name": "ipython",
    "version": 2
   },
   "file_extension": ".py",
   "mimetype": "text/x-python",
   "name": "python",
   "nbconvert_exporter": "python",
   "pygments_lexer": "ipython2",
   "version": "2.7.11"
  }
 },
 "nbformat": 4,
 "nbformat_minor": 0
}
