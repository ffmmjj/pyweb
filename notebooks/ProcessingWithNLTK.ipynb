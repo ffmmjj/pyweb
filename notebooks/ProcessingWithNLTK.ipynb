{
 "cells": [
  {
   "cell_type": "markdown",
   "metadata": {},
   "source": [
    "# Processing a large email inbox with NLTK and ScikitLearn"
   ]
  },
  {
   "cell_type": "markdown",
   "metadata": {},
   "source": [
    "### 1. Decode an email message using base64"
   ]
  },
  {
   "cell_type": "code",
   "execution_count": 67,
   "metadata": {
    "collapsed": true
   },
   "outputs": [],
   "source": [
    "import base64"
   ]
  },
  {
   "cell_type": "code",
   "execution_count": 68,
   "metadata": {
    "collapsed": false
   },
   "outputs": [
    {
     "name": "stdout",
     "output_type": "stream",
     "text": [
      "<html xmlns=\"http://www.w3.org/1999/xhtml\" xml:lang=\"pt-br\"\n",
      "      lang=\"pt-br\">\n",
      "\n",
      "  \n",
      "  <head>\n",
      "    <meta content=\"text/html;charset=utf-8\" http-equiv=\"Content-Type\">\n",
      "  </head>\n",
      "\n",
      "  <body>\n",
      "    <div style=\"margin: 10px;\">            \n",
      "      <label style=\"font-weight: bold;\">Nome do remetente:</label>\n",
      "      <span>VIRGINIA CONDORI CHOQUE</span>    \n",
      "    </div>\n",
      "    <div style=\"margin: 10px;\">            \n",
      "      <label style=\"font-weight: bold;\">E-mail do remetente:</label>\n",
      "      <span>mi_angel_espejo@hotmail.com</span>    \n",
      "    </div>\n",
      "    <div style=\"margin: 10px;\">            \n",
      "      <label style=\"font-weight: bold;\">Assunto:</label>\n",
      "      <span>Eu quero participar de O Exame Nacional de Revalidação de Diplomas Médicos 2014</span>    \n",
      "    </div>\n",
      "    <div style=\"margin: 10px;\">            \n",
      "      <label style=\"font-weight: bold;\">Tipo:</label>\n",
      "      <span>Outro</span>\n",
      "    </div>     \n",
      "    <div style=\"margin: 10px;\">            \n",
      "      <label style=\"font-weight: bold;\">data de envio:</label>\n",
      "      <span>24/06/2014 01:19:33</span>    \n",
      "    </div>\n",
      "    <div style=\"margin: 10px;\">            \n",
      "      <label style=\"font-weight: bold;\">Respondida:</label>\n",
      "      <span>Sim</span>\n",
      "    </div>\n",
      "    <div style=\"margin: 10px;\">            \n",
      "      <label style=\"font-weight: bold;\">Mensagem Externa:</label>\n",
      "      <span>Sim</span>\n",
      "    </div>\n",
      "    <div style=\"margin: 10px;\">            \n",
      "      <label style=\"font-weight: bold;\">Mensagem:</label><br /><br />\n",
      "      <div>Boa noite, por favor eu quero participar de O Exame Nacional de Revalidação de Diplomas Médicos Expedidos por Instituições de Educação Superior Estrangeiras – REVALIDA 2014, mais não posso fazer minha inscrição por que no ano passado quis fazer minha inscrição pero foi tarde demais e o cadastro que fiz foi com um e-mail que perdi (perdi a conta)e não lembro a senha, PORFAVOR COMO POSSO FAZER PARA-ME CADASTRAR NOVAMENTE COM OUTRO E-MAIL, POR FAVOR ME AJUDE, EU QUERO MUITO MESMO PARTICIPAR DA PROVA. eu peço sua ajuda e grata antecipadamente pela sua ajuda PORFAVOR.<br/>Ou por favor me diga como eu posso falar com vocês.<br/>Meu e-mail atual mi_angel_espejo@hotmail.com</div>    \n",
      "    </div>\n",
      "  </body>\n",
      "</html>\n",
      "\n"
     ]
    }
   ],
   "source": [
    "body = 'PGh0bWwgeG1sbnM9Imh0dHA6Ly93d3cudzMub3JnLzE5OTkveGh0bWwiIHhtbDpsYW5nPSJwdC1i \\\n",
    "ciIKICAgICAgbGFuZz0icHQtYnIiPgoKICAKICA8aGVhZD4KICAgIDxtZXRhIGNvbnRlbnQ9InRl \\\n",
    "eHQvaHRtbDtjaGFyc2V0PXV0Zi04IiBodHRwLWVxdWl2PSJDb250ZW50LVR5cGUiPgogIDwvaGVh \\\n",
    "ZD4KCiAgPGJvZHk+CiAgICA8ZGl2IHN0eWxlPSJtYXJnaW46IDEwcHg7Ij4gICAgICAgICAgICAK \\\n",
    "ICAgICAgPGxhYmVsIHN0eWxlPSJmb250LXdlaWdodDogYm9sZDsiPk5vbWUgZG8gcmVtZXRlbnRl \\\n",
    "OjwvbGFiZWw+CiAgICAgIDxzcGFuPlZJUkdJTklBIENPTkRPUkkgQ0hPUVVFPC9zcGFuPiAgICAK \\\n",
    "ICAgIDwvZGl2PgogICAgPGRpdiBzdHlsZT0ibWFyZ2luOiAxMHB4OyI+ICAgICAgICAgICAgCiAg \\\n",
    "ICAgIDxsYWJlbCBzdHlsZT0iZm9udC13ZWlnaHQ6IGJvbGQ7Ij5FLW1haWwgZG8gcmVtZXRlbnRl \\\n",
    "OjwvbGFiZWw+CiAgICAgIDxzcGFuPm1pX2FuZ2VsX2VzcGVqb0Bob3RtYWlsLmNvbTwvc3Bhbj4g \\\n",
    "ICAgCiAgICA8L2Rpdj4KICAgIDxkaXYgc3R5bGU9Im1hcmdpbjogMTBweDsiPiAgICAgICAgICAg \\\n",
    "IAogICAgICA8bGFiZWwgc3R5bGU9ImZvbnQtd2VpZ2h0OiBib2xkOyI+QXNzdW50bzo8L2xhYmVs \\\n",
    "PgogICAgICA8c3Bhbj5FdSBxdWVybyBwYXJ0aWNpcGFyIGRlIE8gRXhhbWUgTmFjaW9uYWwgZGUg \\\n",
    "UmV2YWxpZGHDp8OjbyBkZSBEaXBsb21hcyBNw6lkaWNvcyAyMDE0PC9zcGFuPiAgICAKICAgIDwv \\\n",
    "ZGl2PgogICAgPGRpdiBzdHlsZT0ibWFyZ2luOiAxMHB4OyI+ICAgICAgICAgICAgCiAgICAgIDxs \\\n",
    "YWJlbCBzdHlsZT0iZm9udC13ZWlnaHQ6IGJvbGQ7Ij5UaXBvOjwvbGFiZWw+CiAgICAgIDxzcGFu \\\n",
    "Pk91dHJvPC9zcGFuPgogICAgPC9kaXY+ICAgICAKICAgIDxkaXYgc3R5bGU9Im1hcmdpbjogMTBw \\\n",
    "eDsiPiAgICAgICAgICAgIAogICAgICA8bGFiZWwgc3R5bGU9ImZvbnQtd2VpZ2h0OiBib2xkOyI+ \\\n",
    "ZGF0YSBkZSBlbnZpbzo8L2xhYmVsPgogICAgICA8c3Bhbj4yNC8wNi8yMDE0IDAxOjE5OjMzPC9z \\\n",
    "cGFuPiAgICAKICAgIDwvZGl2PgogICAgPGRpdiBzdHlsZT0ibWFyZ2luOiAxMHB4OyI+ICAgICAg \\\n",
    "ICAgICAgCiAgICAgIDxsYWJlbCBzdHlsZT0iZm9udC13ZWlnaHQ6IGJvbGQ7Ij5SZXNwb25kaWRh \\\n",
    "OjwvbGFiZWw+CiAgICAgIDxzcGFuPlNpbTwvc3Bhbj4KICAgIDwvZGl2PgogICAgPGRpdiBzdHls \\\n",
    "ZT0ibWFyZ2luOiAxMHB4OyI+ICAgICAgICAgICAgCiAgICAgIDxsYWJlbCBzdHlsZT0iZm9udC13 \\\n",
    "ZWlnaHQ6IGJvbGQ7Ij5NZW5zYWdlbSBFeHRlcm5hOjwvbGFiZWw+CiAgICAgIDxzcGFuPlNpbTwv \\\n",
    "c3Bhbj4KICAgIDwvZGl2PgogICAgPGRpdiBzdHlsZT0ibWFyZ2luOiAxMHB4OyI+ICAgICAgICAg \\\n",
    "ICAgCiAgICAgIDxsYWJlbCBzdHlsZT0iZm9udC13ZWlnaHQ6IGJvbGQ7Ij5NZW5zYWdlbTo8L2xh \\\n",
    "YmVsPjxiciAvPjxiciAvPgogICAgICA8ZGl2PkJvYSBub2l0ZSwgcG9yIGZhdm9yIGV1IHF1ZXJv \\\n",
    "IHBhcnRpY2lwYXIgZGUgTyBFeGFtZSBOYWNpb25hbCBkZSBSZXZhbGlkYcOnw6NvIGRlIERpcGxv \\\n",
    "bWFzIE3DqWRpY29zIEV4cGVkaWRvcyBwb3IgSW5zdGl0dWnDp8O1ZXMgZGUgRWR1Y2HDp8OjbyBT \\\n",
    "dXBlcmlvciBFc3RyYW5nZWlyYXMg4oCTIFJFVkFMSURBIDIwMTQsIG1haXMgbsOjbyBwb3NzbyBm \\\n",
    "YXplciBtaW5oYSBpbnNjcmnDp8OjbyBwb3IgcXVlIG5vIGFubyBwYXNzYWRvIHF1aXMgZmF6ZXIg \\\n",
    "bWluaGEgaW5zY3Jpw6fDo28gcGVybyBmb2kgdGFyZGUgZGVtYWlzIGUgbyBjYWRhc3RybyBxdWUg \\\n",
    "Zml6IGZvaSBjb20gdW0gZS1tYWlsIHF1ZSBwZXJkaSAocGVyZGkgYSBjb250YSllIG7Do28gbGVt \\\n",
    "YnJvIGEgc2VuaGEsIFBPUkZBVk9SIENPTU8gUE9TU08gRkFaRVIgUEFSQS1NRSBDQURBU1RSQVIg \\\n",
    "Tk9WQU1FTlRFIENPTSBPVVRSTyBFLU1BSUwsIFBPUiBGQVZPUiBNRSBBSlVERSwgRVUgUVVFUk8g \\\n",
    "TVVJVE8gTUVTTU8gUEFSVElDSVBBUiBEQSBQUk9WQS4gZXUgcGXDp28gc3VhIGFqdWRhIGUgZ3Jh \\\n",
    "dGEgYW50ZWNpcGFkYW1lbnRlIHBlbGEgc3VhIGFqdWRhIFBPUkZBVk9SLjxici8+T3UgcG9yIGZh \\\n",
    "dm9yIG1lIGRpZ2EgY29tbyBldSBwb3NzbyBmYWxhciBjb20gdm9jw6pzLjxici8+TWV1IGUtbWFp \\\n",
    "bCBhdHVhbCBtaV9hbmdlbF9lc3Blam9AaG90bWFpbC5jb208L2Rpdj4gICAgCiAgICA8L2Rpdj4K \\\n",
    "ICA8L2JvZHk+CjwvaHRtbD4K'\n",
    "email_body = base64.b64decode(body)\n",
    "print email_body"
   ]
  },
  {
   "cell_type": "markdown",
   "metadata": {},
   "source": [
    "### 2. Parse and extract relevant features from email body"
   ]
  },
  {
   "cell_type": "code",
   "execution_count": 69,
   "metadata": {
    "collapsed": false
   },
   "outputs": [],
   "source": [
    "from pyquery import PyQuery\n",
    "import unicodedata"
   ]
  },
  {
   "cell_type": "code",
   "execution_count": 70,
   "metadata": {
    "collapsed": true
   },
   "outputs": [],
   "source": [
    "def unicode_normalize(text):\n",
    "    return unicodedata.normalize('NFKD', unicode(text)).encode('ascii','ignore')"
   ]
  },
  {
   "cell_type": "code",
   "execution_count": 71,
   "metadata": {
    "collapsed": false
   },
   "outputs": [],
   "source": [
    "def parse_email(email_body):\n",
    "    email_parser = PyQuery(email_body)\n",
    "    email_fields = [unicode_normalize(span.text) for span in email_parser('div>span')]\n",
    "    \n",
    "    feature_names = ['remetente', 'email', 'assunto', 'tipo', 'data_envio', 'respondida?', 'mensagem_externa?']\n",
    "    features = dict(zip(feature_names, email_fields))\n",
    "    \n",
    "    features['mensagem'] = unicode_normalize(email_parser('div>div').text()).lower()\n",
    "    return features"
   ]
  },
  {
   "cell_type": "code",
   "execution_count": 72,
   "metadata": {
    "collapsed": false,
    "scrolled": true
   },
   "outputs": [
    {
     "name": "stdout",
     "output_type": "stream",
     "text": [
      "{'tipo': 'Outro', 'assunto': 'Eu quero participar de O Exame Nacional de Revalidacao de Diplomas Medicos 2014', 'respondida?': 'Sim', 'data_envio': '24/06/2014 01:19:33', 'mensagem': 'boa noite, por favor eu quero participar de o exame nacional de revalidacao de diplomas medicos expedidos por instituicoes de educacao superior estrangeiras  revalida 2014, mais nao posso fazer minha inscricao por que no ano passado quis fazer minha inscricao pero foi tarde demais e o cadastro que fiz foi com um e-mail que perdi (perdi a conta)e nao lembro a senha, porfavor como posso fazer para-me cadastrar novamente com outro e-mail, por favor me ajude, eu quero muito mesmo participar da prova. eu peco sua ajuda e grata antecipadamente pela sua ajuda porfavor. ou por favor me diga como eu posso falar com voces. meu e-mail atual mi_angel_espejo@hotmail.com', 'mensagem_externa?': 'Sim', 'email': 'mi_angel_espejo@hotmail.com', 'remetente': 'VIRGINIA CONDORI CHOQUE'}\n"
     ]
    }
   ],
   "source": [
    "email_features = parse_email(email_body)\n",
    "print email_features"
   ]
  },
  {
   "cell_type": "markdown",
   "metadata": {},
   "source": [
    "### 3. Open messages file"
   ]
  },
  {
   "cell_type": "code",
   "execution_count": 74,
   "metadata": {
    "collapsed": false
   },
   "outputs": [],
   "source": [
    "messages = []\n",
    "input_file = open('emails/INBOX.Arquivo Remoto.mbox')\n",
    "line = input_file.readline()\n",
    "while line:\n",
    "    if 'X-Proofpoint-Virus-Version' in line: \n",
    "        content = ''\n",
    "        input_file.readline()\n",
    "        line = input_file.readline()\n",
    "        line = ''\n",
    "        while line != '\\n':\n",
    "            line = input_file.readline()\n",
    "            content += line\n",
    "        messages.append(content)\n",
    "    line = input_file.readline()"
   ]
  },
  {
   "cell_type": "code",
   "execution_count": 29,
   "metadata": {
    "collapsed": false
   },
   "outputs": [
    {
     "name": "stdout",
     "output_type": "stream",
     "text": [
      "[]\n"
     ]
    }
   ],
   "source": [
    "# IN PROGRESS, DO NOT RUN\n",
    "import mailbox\n",
    "import email\n",
    "import json\n",
    "\n",
    "MBOX = 'emails/INBOX.Arquivo Remoto.mbox'\n",
    "mbox = mailbox.UnixMailbox(open(MBOX, 'rb'), email.message_from_file)\n",
    "\n",
    "def objectify_message(msg):\n",
    "    o_msg = dict([ (k, v) for (k,v) in msg.items() ])\n",
    "    \n",
    "    part = [p for p in msg.walk()][0]\n",
    "    o_msg['contentType'] = part.get_content_type()\n",
    "    o_msg['content'] = part.get_payload()\n",
    "    \n",
    "    return o_msg\n",
    "\n",
    "messages = []\n",
    "while 1:\n",
    "    msg = mbox.next()\n",
    "    if msg is None: break\n",
    "    messages.append(objectify_message(msg))\n",
    "    \n",
    "print json.dumps(messages, indent=1)"
   ]
  },
  {
   "cell_type": "code",
   "execution_count": 75,
   "metadata": {
    "collapsed": false
   },
   "outputs": [
    {
     "data": {
      "text/plain": [
       "33941"
      ]
     },
     "execution_count": 75,
     "metadata": {},
     "output_type": "execute_result"
    }
   ],
   "source": [
    "len(messages)"
   ]
  },
  {
   "cell_type": "code",
   "execution_count": 76,
   "metadata": {
    "collapsed": false
   },
   "outputs": [
    {
     "data": {
      "text/plain": [
       "'PGh0bWwgeG1sbnM9Imh0dHA6Ly93d3cudzMub3JnLzE5OTkveGh0bWwiIHhtbDpsYW5nPSJwdC1i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\\n\\n'"
      ]
     },
     "execution_count": 76,
     "metadata": {},
     "output_type": "execute_result"
    }
   ],
   "source": [
    "messages[3]"
   ]
  },
  {
   "cell_type": "code",
   "execution_count": 77,
   "metadata": {
    "collapsed": false
   },
   "outputs": [],
   "source": [
    "emails = []\n",
    "for message in messages:\n",
    "    try:\n",
    "        decoded_message = base64.b64decode(message)\n",
    "        emails.append(parse_email(decoded_message))\n",
    "    except:\n",
    "        pass\n"
   ]
  },
  {
   "cell_type": "code",
   "execution_count": 78,
   "metadata": {
    "collapsed": false
   },
   "outputs": [
    {
     "data": {
      "text/plain": [
       "33299"
      ]
     },
     "execution_count": 78,
     "metadata": {},
     "output_type": "execute_result"
    }
   ],
   "source": [
    "len(emails)"
   ]
  },
  {
   "cell_type": "code",
   "execution_count": 79,
   "metadata": {
    "collapsed": false
   },
   "outputs": [
    {
     "data": {
      "text/plain": [
       "{'assunto': 'Rede Publica',\n",
       " 'data_envio': '30/07/2014 22:57:47',\n",
       " 'email': 'nubia_milanezi@hotmail.com',\n",
       " 'mensagem': 'ola, boa noite! escrevo como estudante, fiz todo o ensino na rede publica e com muito esforco tirei o melhor proveito. ainda existem excelente professores sim, aqueles que tem vontade de ensinar e sao por esses professores que me empenhei para ter uma boa pontuacao no enem e conseguir uma bolsa parcial para estudar em uma otima faculdade que estou hoje (esamc). atualmente estou finalizando meu curso em publicidade e propaganda e almejo um intercambio. trabalho desde os meus 13 anos,(como minha mae dizia nao era pelo valor mas sim pela responsabilidade e valorizacao no trabalho. e assim eu cresci com a minha mae e minha irma me ajudando. hoje venha em nome de todos os estudantes pedir uma ajuda, tenho esse sonho de estudar ingles em outro pais e me especializar na minha area, mas mesmo com meu salario inteiro e a ajuda da minha mae isso nao e possivel. com toda a confianca que voce tem na educacao no brasil peco sua ajuda, qualquer que seja sera muito bem-vinda. nubia milanezi',\n",
       " 'mensagem_externa?': 'Sim',\n",
       " 'remetente': 'Nubia Milanezi',\n",
       " 'respondida?': 'Nao',\n",
       " 'tipo': 'Outro'}"
      ]
     },
     "execution_count": 79,
     "metadata": {},
     "output_type": "execute_result"
    }
   ],
   "source": [
    "emails[3]"
   ]
  },
  {
   "cell_type": "markdown",
   "metadata": {},
   "source": [
    "### 4.  TF-IDF and KMeans Clustering"
   ]
  },
  {
   "cell_type": "code",
   "execution_count": 80,
   "metadata": {
    "collapsed": false
   },
   "outputs": [],
   "source": [
    "from sklearn.feature_extraction.text import TfidfVectorizer\n",
    "from sklearn.feature_extraction.text import TfidfTransformer\n",
    "\n",
    "from sklearn.cluster import KMeans\n",
    "\n",
    "import nltk\n",
    "import string\n",
    "\n",
    "from nltk.corpus import stopwords\n",
    "from nltk.stem.snowball import *\n",
    "\n",
    "from collections import Counter"
   ]
  },
  {
   "cell_type": "markdown",
   "metadata": {},
   "source": [
    "#### Stopwords"
   ]
  },
  {
   "cell_type": "code",
   "execution_count": 81,
   "metadata": {
    "collapsed": false
   },
   "outputs": [
    {
     "data": {
      "text/plain": [
       "[u'a',\n",
       " u'ao',\n",
       " u'aos',\n",
       " u'aquela',\n",
       " u'aquelas',\n",
       " u'aquele',\n",
       " u'aqueles',\n",
       " u'aquilo',\n",
       " u'as',\n",
       " u'at\\xe9',\n",
       " u'com',\n",
       " u'como',\n",
       " u'da',\n",
       " u'das',\n",
       " u'de',\n",
       " u'dela',\n",
       " u'delas',\n",
       " u'dele',\n",
       " u'deles',\n",
       " u'depois',\n",
       " u'do',\n",
       " u'dos',\n",
       " u'e',\n",
       " u'ela',\n",
       " u'elas',\n",
       " u'ele',\n",
       " u'eles',\n",
       " u'em',\n",
       " u'entre',\n",
       " u'era',\n",
       " u'eram',\n",
       " u'essa',\n",
       " u'essas',\n",
       " u'esse',\n",
       " u'esses',\n",
       " u'esta',\n",
       " u'estamos',\n",
       " u'estas',\n",
       " u'estava',\n",
       " u'estavam',\n",
       " u'este',\n",
       " u'esteja',\n",
       " u'estejam',\n",
       " u'estejamos',\n",
       " u'estes',\n",
       " u'esteve',\n",
       " u'estive',\n",
       " u'estivemos',\n",
       " u'estiver',\n",
       " u'estivera',\n",
       " u'estiveram',\n",
       " u'estiverem',\n",
       " u'estivermos',\n",
       " u'estivesse',\n",
       " u'estivessem',\n",
       " u'estiv\\xe9ramos',\n",
       " u'estiv\\xe9ssemos',\n",
       " u'estou',\n",
       " u'est\\xe1',\n",
       " u'est\\xe1vamos',\n",
       " u'est\\xe3o',\n",
       " u'eu',\n",
       " u'foi',\n",
       " u'fomos',\n",
       " u'for',\n",
       " u'fora',\n",
       " u'foram',\n",
       " u'forem',\n",
       " u'formos',\n",
       " u'fosse',\n",
       " u'fossem',\n",
       " u'fui',\n",
       " u'f\\xf4ramos',\n",
       " u'f\\xf4ssemos',\n",
       " u'haja',\n",
       " u'hajam',\n",
       " u'hajamos',\n",
       " u'havemos',\n",
       " u'hei',\n",
       " u'houve',\n",
       " u'houvemos',\n",
       " u'houver',\n",
       " u'houvera',\n",
       " u'houveram',\n",
       " u'houverei',\n",
       " u'houverem',\n",
       " u'houveremos',\n",
       " u'houveria',\n",
       " u'houveriam',\n",
       " u'houvermos',\n",
       " u'houver\\xe1',\n",
       " u'houver\\xe3o',\n",
       " u'houver\\xedamos',\n",
       " u'houvesse',\n",
       " u'houvessem',\n",
       " u'houv\\xe9ramos',\n",
       " u'houv\\xe9ssemos',\n",
       " u'h\\xe1',\n",
       " u'h\\xe3o',\n",
       " u'isso',\n",
       " u'isto',\n",
       " u'j\\xe1',\n",
       " u'lhe',\n",
       " u'lhes',\n",
       " u'mais',\n",
       " u'mas',\n",
       " u'me',\n",
       " u'mesmo',\n",
       " u'meu',\n",
       " u'meus',\n",
       " u'minha',\n",
       " u'minhas',\n",
       " u'muito',\n",
       " u'na',\n",
       " u'nas',\n",
       " u'nem',\n",
       " u'no',\n",
       " u'nos',\n",
       " u'nossa',\n",
       " u'nossas',\n",
       " u'nosso',\n",
       " u'nossos',\n",
       " u'num',\n",
       " u'numa',\n",
       " u'n\\xe3o',\n",
       " u'n\\xf3s',\n",
       " u'o',\n",
       " u'os',\n",
       " u'ou',\n",
       " u'para',\n",
       " u'pela',\n",
       " u'pelas',\n",
       " u'pelo',\n",
       " u'pelos',\n",
       " u'por',\n",
       " u'qual',\n",
       " u'quando',\n",
       " u'que',\n",
       " u'quem',\n",
       " u'se',\n",
       " u'seja',\n",
       " u'sejam',\n",
       " u'sejamos',\n",
       " u'sem',\n",
       " u'serei',\n",
       " u'seremos',\n",
       " u'seria',\n",
       " u'seriam',\n",
       " u'ser\\xe1',\n",
       " u'ser\\xe3o',\n",
       " u'ser\\xedamos',\n",
       " u'seu',\n",
       " u'seus',\n",
       " u'somos',\n",
       " u'sou',\n",
       " u'sua',\n",
       " u'suas',\n",
       " u's\\xe3o',\n",
       " u's\\xf3',\n",
       " u'tamb\\xe9m',\n",
       " u'te',\n",
       " u'tem',\n",
       " u'temos',\n",
       " u'tenha',\n",
       " u'tenham',\n",
       " u'tenhamos',\n",
       " u'tenho',\n",
       " u'terei',\n",
       " u'teremos',\n",
       " u'teria',\n",
       " u'teriam',\n",
       " u'ter\\xe1',\n",
       " u'ter\\xe3o',\n",
       " u'ter\\xedamos',\n",
       " u'teu',\n",
       " u'teus',\n",
       " u'teve',\n",
       " u'tinha',\n",
       " u'tinham',\n",
       " u'tive',\n",
       " u'tivemos',\n",
       " u'tiver',\n",
       " u'tivera',\n",
       " u'tiveram',\n",
       " u'tiverem',\n",
       " u'tivermos',\n",
       " u'tivesse',\n",
       " u'tivessem',\n",
       " u'tiv\\xe9ramos',\n",
       " u'tiv\\xe9ssemos',\n",
       " u'tu',\n",
       " u'tua',\n",
       " u'tuas',\n",
       " u't\\xe9m',\n",
       " u't\\xednhamos',\n",
       " u'um',\n",
       " u'uma',\n",
       " u'voc\\xea',\n",
       " u'voc\\xeas',\n",
       " u'vos',\n",
       " u'\\xe0',\n",
       " u'\\xe0s',\n",
       " u'\\xe9ramos']"
      ]
     },
     "execution_count": 81,
     "metadata": {},
     "output_type": "execute_result"
    }
   ],
   "source": [
    "sorted(stopwords.words('portuguese'))"
   ]
  },
  {
   "cell_type": "code",
   "execution_count": 82,
   "metadata": {
    "collapsed": false
   },
   "outputs": [],
   "source": [
    "stopwords_extended = ['nao', 'ja', 'pois', 'pra', 'sobre', 'deste', 'ta', 'bom', 'obrigado', 'obrigada']\n",
    "stopwords_extended.extend(['gostaria', 'saber', 'fazer', 'boa', 'ate'])\n",
    "stopwords_extended.extend(stopwords.words('portuguese'))"
   ]
  },
  {
   "cell_type": "markdown",
   "metadata": {},
   "source": [
    "#### Tokenizing"
   ]
  },
  {
   "cell_type": "code",
   "execution_count": 83,
   "metadata": {
    "collapsed": false
   },
   "outputs": [
    {
     "name": "stdout",
     "output_type": "stream",
     "text": [
      "[('consigo', 2), ('suspender', 1), ('46669003811', 1), ('erro', 1), ('senha', 1), ('faculdade', 1), ('tirei', 1), ('logar', 1), ('vou', 1), ('exibe', 1), ('tranquei', 1), ('contrato', 1), ('cadastrado', 1), ('tentando', 1), ('suspencao', 1), ('novo', 1), ('posso', 1), ('aqui', 1), ('nova', 1), ('permanesse', 1), ('20140000416031', 1), ('todas', 1), ('dias', 1), ('pedir', 1), ('protocolo', 1), ('segui', 1), ('menssagem', 1), ('cadastrar', 1), ('conta', 1), ('ha', 1), ('ultimo', 1), ('atendimento', 1), ('semestre', 1), ('printscreen', 1), ('570501892', 1), ('anexar', 1), ('resolveu', 1), ('temporariamente', 1), ('fies', 1), ('0800', 1), ('orientacoes', 1), ('cpf', 1), ('email', 1), ('alguns', 1), ('orientado', 1)]\n"
     ]
    }
   ],
   "source": [
    "def get_tokens(text):\n",
    "    lowers = text.lower()\n",
    "    no_punctuation = lowers.translate(None, string.punctuation)\n",
    "    tokens = nltk.word_tokenize(no_punctuation)\n",
    "    return tokens\n",
    "\n",
    "tokens = get_tokens(emails[210]['mensagem'])\n",
    "filtered = [w for w in tokens if not w in stopwords_extended]\n",
    "count = Counter(filtered)\n",
    "print count.most_common(100)"
   ]
  },
  {
   "cell_type": "markdown",
   "metadata": {},
   "source": [
    "#### Stemming"
   ]
  },
  {
   "cell_type": "code",
   "execution_count": 84,
   "metadata": {
    "collapsed": false
   },
   "outputs": [
    {
     "name": "stdout",
     "output_type": "stream",
     "text": [
      "[(u'cadastr', 2), (u'consig', 2), (u'nov', 2), (u'suspend', 1), (u'erro', 1), (u'tranqu', 1), (u'segu', 1), (u'atend', 1), (u'vou', 1), (u'contrat', 1), (u'cont', 1), (u'orient', 1), (u'46669003811', 1), (u'suspenca', 1), (u'exib', 1), (u'log', 1), (u'ultim', 1), (u'tir', 1), (u'ped', 1), (u'dias', 1)]\n"
     ]
    }
   ],
   "source": [
    "def stem_tokens(tokens, stemmer):\n",
    "    stemmed = []\n",
    "    for item in tokens:\n",
    "        stemmed.append(stemmer.stem(item))\n",
    "    return stemmed\n",
    "\n",
    "stemmer = SnowballStemmer('portuguese')\n",
    "stemmed = stem_tokens(filtered[:1000], stemmer)\n",
    "count = Counter(stemmed)\n",
    "print count.most_common(20)"
   ]
  },
  {
   "cell_type": "code",
   "execution_count": 85,
   "metadata": {
    "collapsed": false
   },
   "outputs": [
    {
     "name": "stdout",
     "output_type": "stream",
     "text": [
      "[('curso', 7504), ('dia', 6629), ('preciso', 4872), ('faculdade', 4785), ('inscricao', 4342), ('mec', 4272), ('fies', 3772), ('consigo', 3732), ('aguardo', 3721), ('faco', 3639), ('desde', 3620), ('site', 3549), ('tarde', 3477), ('favor', 3462), ('posso', 3081), ('ensino', 2885), ('fiz', 2813), ('resposta', 2750), ('escola', 2745), ('ano', 2693)]\n"
     ]
    }
   ],
   "source": [
    "texto = ' '.join([d['mensagem'] for d in emails])\n",
    "tokens = get_tokens(texto)\n",
    "filtered = [w for w in tokens if not w in stopwords_extended]\n",
    "count = Counter(filtered)\n",
    "print count.most_common(20)"
   ]
  },
  {
   "cell_type": "markdown",
   "metadata": {},
   "source": [
    "#### Pre-processing messages"
   ]
  },
  {
   "cell_type": "code",
   "execution_count": 55,
   "metadata": {
    "collapsed": false
   },
   "outputs": [],
   "source": [
    "def preparar_mensagem(text):\n",
    "    tokens = get_tokens(text)\n",
    "    filtered = [w for w in tokens if not w in stopwords_extended]\n",
    "    stemmer = SnowballStemmer('portuguese')\n",
    "    stemmed = stem_tokens(filtered, stemmer)\n",
    "    return ' '.join(stemmed) "
   ]
  },
  {
   "cell_type": "code",
   "execution_count": 87,
   "metadata": {
    "collapsed": false
   },
   "outputs": [
    {
     "data": {
      "text/plain": [
       "'bom dia gostaria de saber como faco para me escrever para prova do encceja 2014'"
      ]
     },
     "execution_count": 87,
     "metadata": {},
     "output_type": "execute_result"
    }
   ],
   "source": [
    "random.choice(emails)['mensagem']"
   ]
  },
  {
   "cell_type": "code",
   "execution_count": 56,
   "metadata": {
    "collapsed": false
   },
   "outputs": [
    {
     "data": {
      "text/plain": [
       "u'dia alun unifacs possu credit educativofi motiv pesso afast durant quatr semestr consecut matricul instituica engenh civil ped mud adm sra pass informaco dev proced retorn academ possu relatori medic abaix segu dad alun rodrig brit souz matricul 150121079 cpf 04210136565 ps possivel marc reunia sra maior esclarec grat rodrig brit'"
      ]
     },
     "execution_count": 56,
     "metadata": {},
     "output_type": "execute_result"
    }
   ],
   "source": [
    "import random\n",
    "\n",
    "preparar_mensagem(random.choice(emails)['mensagem'])"
   ]
  },
  {
   "cell_type": "code",
   "execution_count": 57,
   "metadata": {
    "collapsed": false
   },
   "outputs": [],
   "source": [
    "mensagens_limpas = [preparar_mensagem(d['mensagem']) for d in emails]"
   ]
  },
  {
   "cell_type": "markdown",
   "metadata": {},
   "source": [
    "#### Running TF-IDF"
   ]
  },
  {
   "cell_type": "code",
   "execution_count": 58,
   "metadata": {
    "collapsed": false
   },
   "outputs": [],
   "source": [
    "vectorizer = TfidfVectorizer(max_df=0.5, max_features=10000,\n",
    "                                 min_df=2, stop_words=stopwords_extended,\n",
    "                                 use_idf=True)\n",
    "X = vectorizer.fit_transform(mensagens_limpas)"
   ]
  },
  {
   "cell_type": "markdown",
   "metadata": {},
   "source": [
    "#### Clustering"
   ]
  },
  {
   "cell_type": "code",
   "execution_count": 59,
   "metadata": {
    "collapsed": false
   },
   "outputs": [
    {
     "data": {
      "text/plain": [
       "KMeans(copy_x=True, init='k-means++', max_iter=100, n_clusters=10, n_init=1,\n",
       "    n_jobs=1, precompute_distances='auto', random_state=None, tol=0.0001,\n",
       "    verbose=False)"
      ]
     },
     "execution_count": 59,
     "metadata": {},
     "output_type": "execute_result"
    }
   ],
   "source": [
    "number_of_clusters = 10\n",
    "\n",
    "km = KMeans(n_clusters=number_of_clusters, init='k-means++', max_iter=100, n_init=1,verbose=False)\n",
    "km.fit(X)"
   ]
  },
  {
   "cell_type": "code",
   "execution_count": 60,
   "metadata": {
    "collapsed": false
   },
   "outputs": [
    {
     "name": "stdout",
     "output_type": "stream",
     "text": [
      "Top terms per cluster:\n",
      "Cluster 0:\n",
      " pag\n",
      " 7458\n",
      " suely\n",
      " qto\n",
      " recolh\n",
      " part\n",
      " valor\n",
      " agor\n",
      " dev\n",
      " dess\n",
      "\n",
      "Cluster 1:\n",
      " asim\n",
      " pess\n",
      " consig\n",
      " sisu\n",
      " escrev\n",
      " final\n",
      " ver\n",
      " urgenc\n",
      " ultim\n",
      " not\n",
      "\n",
      "Cluster 2:\n",
      " univers\n",
      " matricul\n",
      " rematricul\n",
      " tranc\n",
      " curs\n",
      " tuiut\n",
      " period\n",
      " praz\n",
      " lucrat\n",
      " setim\n",
      "\n",
      "Cluster 3:\n",
      " curs\n",
      " mec\n",
      " fac\n",
      " precis\n",
      " escol\n",
      " dia\n",
      " faculdad\n",
      " quer\n",
      " poss\n",
      " receb\n",
      "\n",
      "Cluster 4:\n",
      " respald\n",
      " acerc\n",
      " transferenc\n",
      " vinh\n",
      " realidad\n",
      " tid\n",
      " veig\n",
      " zer\n",
      " comprovaca\n",
      " respost\n",
      "\n",
      "Cluster 5:\n",
      " empreg\n",
      " vag\n",
      " domest\n",
      " cadastr\n",
      " precis\n",
      " procur\n",
      " fac\n",
      " trabalh\n",
      " sit\n",
      " cei\n",
      "\n",
      "Cluster 6:\n",
      " 2000\n",
      " enem\n",
      " fies\n",
      " oi\n",
      " duv\n",
      " entrar\n",
      " medi\n",
      " obter\n",
      " conclu\n",
      " ano\n",
      "\n",
      "Cluster 7:\n",
      " entrar\n",
      " instrutor\n",
      " simec\n",
      " consig\n",
      " der\n",
      " antes\n",
      " soluca\n",
      " ness\n",
      " mand\n",
      " quant\n",
      "\n",
      "Cluster 8:\n",
      " inscrica\n",
      " fies\n",
      " consig\n",
      " cadastr\n",
      " senh\n",
      " acess\n",
      " enem\n",
      " consegu\n",
      " sit\n",
      " cpf\n",
      "\n",
      "Cluster 9:\n",
      " servic\n",
      " temp\n",
      " empres\n",
      " prest\n",
      " dia\n",
      " gui\n",
      " sit\n",
      " encontr\n",
      " solicit\n",
      " public\n",
      "\n"
     ]
    }
   ],
   "source": [
    "print(\"Top terms per cluster:\")\n",
    "order_centroids = km.cluster_centers_.argsort()[:, ::-1]\n",
    "terms = vectorizer.get_feature_names()\n",
    "for i in range(number_of_clusters):\n",
    "    print(\"Cluster %d:\" % i)\n",
    "    for ind in order_centroids[i, :10]:\n",
    "        print(' %s' % terms[ind])\n",
    "    print"
   ]
  },
  {
   "cell_type": "code",
   "execution_count": 88,
   "metadata": {
    "collapsed": false
   },
   "outputs": [
    {
     "name": "stdout",
     "output_type": "stream",
     "text": [
      "[[7045  814 9011 ..., 6659 6658    0]\n",
      " [1598 7295 2776 ..., 6658 6657    0]\n",
      " [9598 6201 8174 ..., 6649 6648    0]\n",
      " ..., \n",
      " [3955 5424 8772 ..., 6660 6659    0]\n",
      " [5367 4487 2776 ..., 5533 5535 4999]\n",
      " [8697 9190 3839 ..., 5970 5972    0]]\n"
     ]
    }
   ],
   "source": [
    "print order_centroids"
   ]
  },
  {
   "cell_type": "code",
   "execution_count": 89,
   "metadata": {
    "collapsed": false
   },
   "outputs": [
    {
     "name": "stdout",
     "output_type": "stream",
     "text": [
      "[8 3 3 ..., 3 8 8]\n"
     ]
    }
   ],
   "source": [
    "print km.predict(X)"
   ]
  },
  {
   "cell_type": "code",
   "execution_count": 61,
   "metadata": {
    "collapsed": false
   },
   "outputs": [
    {
     "data": {
      "text/plain": [
       "Counter({0: 1,\n",
       "         1: 2,\n",
       "         2: 2,\n",
       "         3: 24696,\n",
       "         4: 3,\n",
       "         5: 308,\n",
       "         6: 2,\n",
       "         7: 2,\n",
       "         8: 7336,\n",
       "         9: 947})"
      ]
     },
     "execution_count": 61,
     "metadata": {},
     "output_type": "execute_result"
    }
   ],
   "source": [
    "Counter(km.predict(X))"
   ]
  },
  {
   "cell_type": "code",
   "execution_count": 62,
   "metadata": {
    "collapsed": false
   },
   "outputs": [],
   "source": [
    "indices = [ind for ind, x in enumerate(km.predict(X)) if x == 4]"
   ]
  },
  {
   "cell_type": "code",
   "execution_count": 63,
   "metadata": {
    "collapsed": false
   },
   "outputs": [
    {
     "data": {
      "text/plain": [
       "['bolsa da univercidade', 'bolsa da univercidade', 'bolsa da univercidade']"
      ]
     },
     "execution_count": 63,
     "metadata": {},
     "output_type": "execute_result"
    }
   ],
   "source": [
    "[emails[i]['assunto'] for i in indices]"
   ]
  },
  {
   "cell_type": "code",
   "execution_count": 64,
   "metadata": {
    "collapsed": false
   },
   "outputs": [
    {
     "name": "stderr",
     "output_type": "stream",
     "text": [
      "/Users/jsilva/anaconda/lib/python2.7/site-packages/numpy/core/_methods.py:59: RuntimeWarning: Mean of empty slice.\n",
      "  warnings.warn(\"Mean of empty slice.\", RuntimeWarning)\n"
     ]
    },
    {
     "data": {
      "text/plain": [
       "-0.014773567204662734"
      ]
     },
     "execution_count": 64,
     "metadata": {},
     "output_type": "execute_result"
    }
   ],
   "source": [
    "# Analisando resultado\n",
    "import numpy as np\n",
    "from sklearn import metrics\n",
    "\n",
    "labels = km.labels_\n",
    "metrics.silhouette_score(X, labels)"
   ]
  },
  {
   "cell_type": "markdown",
   "metadata": {},
   "source": [
    "#### DBSCAN"
   ]
  },
  {
   "cell_type": "code",
   "execution_count": 65,
   "metadata": {
    "collapsed": false
   },
   "outputs": [],
   "source": [
    "from sklearn import cluster\n",
    "\n",
    "dbscan = cluster.DBSCAN(eps=.2)"
   ]
  },
  {
   "cell_type": "code",
   "execution_count": 66,
   "metadata": {
    "collapsed": false
   },
   "outputs": [
    {
     "data": {
      "text/plain": [
       "DBSCAN(algorithm='auto', eps=0.2, leaf_size=30, metric='euclidean',\n",
       "    min_samples=5, p=None, random_state=None)"
      ]
     },
     "execution_count": 66,
     "metadata": {},
     "output_type": "execute_result"
    }
   ],
   "source": [
    "X_dense=X.todense()\n",
    "dbscan.fit(X_dense)"
   ]
  },
  {
   "cell_type": "markdown",
   "metadata": {},
   "source": [
    "#### Topics extraction with Non-Negative Matrix Factorization"
   ]
  },
  {
   "cell_type": "code",
   "execution_count": 113,
   "metadata": {
    "collapsed": false
   },
   "outputs": [
    {
     "name": "stdout",
     "output_type": "stream",
     "text": [
      "Topic #0:\n",
      "curs mec reconhec faculdad instituica tecnic graduaca pos distanc univers diplom sao oferec quer superior matricul ola credenc tard pronatec\n",
      "()\n",
      "Topic #1:\n",
      "consig acess sit cont pagin encontr tent ajud ter result entrar dad consult onde aparec link informaco mud sistem ver\n",
      "()\n",
      "Topic #2:\n",
      "inscrica enem pagament efetu fiz 2014 dia confirm bolet aparec realiz cpf consegu tent const pagu sit numer prov erro\n",
      "()\n",
      "Topic #3:\n",
      "fies precis adit faculdad banc semestr consegu problem contrat financ ajud praz favor resolv cancel sistem urgent nom demand tent\n",
      "()\n",
      "Topic #4:\n",
      "dia receb pod aguard dev desd poss ser trabalh inform respost agradec pag alun solicit fic mes proced tod algum\n",
      "()\n",
      "Topic #5:\n",
      "fac numer quer via precis consegu obter benefici pis tir segund tard inss cpf carta perd consult empres nit noit\n",
      "()\n",
      "Topic #6:\n",
      "senh email acess envi nov recuper esquec precis favor consegu login receb cpf solicit result lembr inval enem perd mand\n",
      "()\n",
      "Topic #7:\n",
      "ensin medi certific conclusa conclu enem ano not diplom prov fundamental poss fiz precis instituica termin superior suplet colegi obter\n",
      "()\n",
      "Topic #8:\n",
      "cadastr cpf tent email dad nom sistem erro program diz unic aparec alter mensag fiz federal errad receit realiz nov\n",
      "()\n",
      "Topic #9:\n",
      "escol histor estud precis filh mec particul educaca fech public colegi alun onde professor livr sao matricul tecnic ano municipal\n",
      "()\n"
     ]
    }
   ],
   "source": [
    "from sklearn.decomposition import NMF\n",
    "\n",
    "vectorizer = TfidfVectorizer(max_df=0.95, min_df=2, max_features=10000, stop_words=stopwords_extended)\n",
    "tfidf = vectorizer.fit_transform(mensagens_limpas)\n",
    "\n",
    "nmf = NMF(n_components=10, random_state=1).fit(tfidf)\n",
    "feature_names = vectorizer.get_feature_names()\n",
    "\n",
    "for topic_idx, topic in enumerate(nmf.components_):\n",
    "    print(\"Topic #%d:\" % topic_idx)\n",
    "    print(\" \".join([feature_names[i]\n",
    "                    for i in topic.argsort()[:-20 - 1:-1]]))\n",
    "    print()"
   ]
  },
  {
   "cell_type": "markdown",
   "metadata": {},
   "source": [
    "#### Other experiments"
   ]
  },
  {
   "cell_type": "code",
   "execution_count": null,
   "metadata": {
    "collapsed": true
   },
   "outputs": [],
   "source": []
  }
 ],
 "metadata": {
  "kernelspec": {
   "display_name": "Python 2",
   "language": "python",
   "name": "python2"
  },
  "language_info": {
   "codemirror_mode": {
    "name": "ipython",
    "version": 2
   },
   "file_extension": ".py",
   "mimetype": "text/x-python",
   "name": "python",
   "nbconvert_exporter": "python",
   "pygments_lexer": "ipython2",
   "version": "2.7.10"
  }
 },
 "nbformat": 4,
 "nbformat_minor": 0
}
