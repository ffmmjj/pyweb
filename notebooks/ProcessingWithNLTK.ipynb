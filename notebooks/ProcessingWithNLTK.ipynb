{
 "cells": [
  {
   "cell_type": "markdown",
   "metadata": {},
   "source": [
    "#### Decode a email message using base64"
   ]
  },
  {
   "cell_type": "code",
   "execution_count": 1,
   "metadata": {
    "collapsed": true
   },
   "outputs": [],
   "source": [
    "import base64"
   ]
  },
  {
   "cell_type": "code",
   "execution_count": 7,
   "metadata": {
    "collapsed": false
   },
   "outputs": [
    {
     "name": "stdout",
     "output_type": "stream",
     "text": [
      "<html xmlns=\"http://www.w3.org/1999/xhtml\" xml:lang=\"pt-br\"\n",
      "      lang=\"pt-br\">\n",
      "\n",
      "  \n",
      "  <head>\n",
      "    <meta content=\"text/html;charset=utf-8\" http-equiv=\"Content-Type\">\n",
      "  </head>\n",
      "\n",
      "  <body>\n",
      "    <div style=\"margin: 10px;\">            \n",
      "      <label style=\"font-weight: bold;\">Nome do remetente:</label>\n",
      "      <span>VIRGINIA CONDORI CHOQUE</span>    \n",
      "    </div>\n",
      "    <div style=\"margin: 10px;\">            \n",
      "      <label style=\"font-weight: bold;\">E-mail do remetente:</label>\n",
      "      <span>mi_angel_espejo@hotmail.com</span>    \n",
      "    </div>\n",
      "    <div style=\"margin: 10px;\">            \n",
      "      <label style=\"font-weight: bold;\">Assunto:</label>\n",
      "      <span>Eu quero participar de O Exame Nacional de Revalidação de Diplomas Médicos 2014</span>    \n",
      "    </div>\n",
      "    <div style=\"margin: 10px;\">            \n",
      "      <label style=\"font-weight: bold;\">Tipo:</label>\n",
      "      <span>Outro</span>\n",
      "    </div>     \n",
      "    <div style=\"margin: 10px;\">            \n",
      "      <label style=\"font-weight: bold;\">data de envio:</label>\n",
      "      <span>24/06/2014 01:19:33</span>    \n",
      "    </div>\n",
      "    <div style=\"margin: 10px;\">            \n",
      "      <label style=\"font-weight: bold;\">Respondida:</label>\n",
      "      <span>Sim</span>\n",
      "    </div>\n",
      "    <div style=\"margin: 10px;\">            \n",
      "      <label style=\"font-weight: bold;\">Mensagem Externa:</label>\n",
      "      <span>Sim</span>\n",
      "    </div>\n",
      "    <div style=\"margin: 10px;\">            \n",
      "      <label style=\"font-weight: bold;\">Mensagem:</label><br /><br />\n",
      "      <div>Boa noite, por favor eu quero participar de O Exame Nacional de Revalidação de Diplomas Médicos Expedidos por Instituições de Educação Superior Estrangeiras – REVALIDA 2014, mais não posso fazer minha inscrição por que no ano passado quis fazer minha inscrição pero foi tarde demais e o cadastro que fiz foi com um e-mail que perdi (perdi a conta)e não lembro a senha, PORFAVOR COMO POSSO FAZER PARA-ME CADASTRAR NOVAMENTE COM OUTRO E-MAIL, POR FAVOR ME AJUDE, EU QUERO MUITO MESMO PARTICIPAR DA PROVA. eu peço sua ajuda e grata antecipadamente pela sua ajuda PORFAVOR.<br/>Ou por favor me diga como eu posso falar com vocês.<br/>Meu e-mail atual mi_angel_espejo@hotmail.com</div>    \n",
      "    </div>\n",
      "  </body>\n",
      "</html>\n",
      "\n"
     ]
    }
   ],
   "source": [
    "body = 'PGh0bWwgeG1sbnM9Imh0dHA6Ly93d3cudzMub3JnLzE5OTkveGh0bWwiIHhtbDpsYW5nPSJwdC1i \\\n",
    "ciIKICAgICAgbGFuZz0icHQtYnIiPgoKICAKICA8aGVhZD4KICAgIDxtZXRhIGNvbnRlbnQ9InRl \\\n",
    "eHQvaHRtbDtjaGFyc2V0PXV0Zi04IiBodHRwLWVxdWl2PSJDb250ZW50LVR5cGUiPgogIDwvaGVh \\\n",
    "ZD4KCiAgPGJvZHk+CiAgICA8ZGl2IHN0eWxlPSJtYXJnaW46IDEwcHg7Ij4gICAgICAgICAgICAK \\\n",
    "ICAgICAgPGxhYmVsIHN0eWxlPSJmb250LXdlaWdodDogYm9sZDsiPk5vbWUgZG8gcmVtZXRlbnRl \\\n",
    "OjwvbGFiZWw+CiAgICAgIDxzcGFuPlZJUkdJTklBIENPTkRPUkkgQ0hPUVVFPC9zcGFuPiAgICAK \\\n",
    "ICAgIDwvZGl2PgogICAgPGRpdiBzdHlsZT0ibWFyZ2luOiAxMHB4OyI+ICAgICAgICAgICAgCiAg \\\n",
    "ICAgIDxsYWJlbCBzdHlsZT0iZm9udC13ZWlnaHQ6IGJvbGQ7Ij5FLW1haWwgZG8gcmVtZXRlbnRl \\\n",
    "OjwvbGFiZWw+CiAgICAgIDxzcGFuPm1pX2FuZ2VsX2VzcGVqb0Bob3RtYWlsLmNvbTwvc3Bhbj4g \\\n",
    "ICAgCiAgICA8L2Rpdj4KICAgIDxkaXYgc3R5bGU9Im1hcmdpbjogMTBweDsiPiAgICAgICAgICAg \\\n",
    "IAogICAgICA8bGFiZWwgc3R5bGU9ImZvbnQtd2VpZ2h0OiBib2xkOyI+QXNzdW50bzo8L2xhYmVs \\\n",
    "PgogICAgICA8c3Bhbj5FdSBxdWVybyBwYXJ0aWNpcGFyIGRlIE8gRXhhbWUgTmFjaW9uYWwgZGUg \\\n",
    "UmV2YWxpZGHDp8OjbyBkZSBEaXBsb21hcyBNw6lkaWNvcyAyMDE0PC9zcGFuPiAgICAKICAgIDwv \\\n",
    "ZGl2PgogICAgPGRpdiBzdHlsZT0ibWFyZ2luOiAxMHB4OyI+ICAgICAgICAgICAgCiAgICAgIDxs \\\n",
    "YWJlbCBzdHlsZT0iZm9udC13ZWlnaHQ6IGJvbGQ7Ij5UaXBvOjwvbGFiZWw+CiAgICAgIDxzcGFu \\\n",
    "Pk91dHJvPC9zcGFuPgogICAgPC9kaXY+ICAgICAKICAgIDxkaXYgc3R5bGU9Im1hcmdpbjogMTBw \\\n",
    "eDsiPiAgICAgICAgICAgIAogICAgICA8bGFiZWwgc3R5bGU9ImZvbnQtd2VpZ2h0OiBib2xkOyI+ \\\n",
    "ZGF0YSBkZSBlbnZpbzo8L2xhYmVsPgogICAgICA8c3Bhbj4yNC8wNi8yMDE0IDAxOjE5OjMzPC9z \\\n",
    "cGFuPiAgICAKICAgIDwvZGl2PgogICAgPGRpdiBzdHlsZT0ibWFyZ2luOiAxMHB4OyI+ICAgICAg \\\n",
    "ICAgICAgCiAgICAgIDxsYWJlbCBzdHlsZT0iZm9udC13ZWlnaHQ6IGJvbGQ7Ij5SZXNwb25kaWRh \\\n",
    "OjwvbGFiZWw+CiAgICAgIDxzcGFuPlNpbTwvc3Bhbj4KICAgIDwvZGl2PgogICAgPGRpdiBzdHls \\\n",
    "ZT0ibWFyZ2luOiAxMHB4OyI+ICAgICAgICAgICAgCiAgICAgIDxsYWJlbCBzdHlsZT0iZm9udC13 \\\n",
    "ZWlnaHQ6IGJvbGQ7Ij5NZW5zYWdlbSBFeHRlcm5hOjwvbGFiZWw+CiAgICAgIDxzcGFuPlNpbTwv \\\n",
    "c3Bhbj4KICAgIDwvZGl2PgogICAgPGRpdiBzdHlsZT0ibWFyZ2luOiAxMHB4OyI+ICAgICAgICAg \\\n",
    "ICAgCiAgICAgIDxsYWJlbCBzdHlsZT0iZm9udC13ZWlnaHQ6IGJvbGQ7Ij5NZW5zYWdlbTo8L2xh \\\n",
    "YmVsPjxiciAvPjxiciAvPgogICAgICA8ZGl2PkJvYSBub2l0ZSwgcG9yIGZhdm9yIGV1IHF1ZXJv \\\n",
    "IHBhcnRpY2lwYXIgZGUgTyBFeGFtZSBOYWNpb25hbCBkZSBSZXZhbGlkYcOnw6NvIGRlIERpcGxv \\\n",
    "bWFzIE3DqWRpY29zIEV4cGVkaWRvcyBwb3IgSW5zdGl0dWnDp8O1ZXMgZGUgRWR1Y2HDp8OjbyBT \\\n",
    "dXBlcmlvciBFc3RyYW5nZWlyYXMg4oCTIFJFVkFMSURBIDIwMTQsIG1haXMgbsOjbyBwb3NzbyBm \\\n",
    "YXplciBtaW5oYSBpbnNjcmnDp8OjbyBwb3IgcXVlIG5vIGFubyBwYXNzYWRvIHF1aXMgZmF6ZXIg \\\n",
    "bWluaGEgaW5zY3Jpw6fDo28gcGVybyBmb2kgdGFyZGUgZGVtYWlzIGUgbyBjYWRhc3RybyBxdWUg \\\n",
    "Zml6IGZvaSBjb20gdW0gZS1tYWlsIHF1ZSBwZXJkaSAocGVyZGkgYSBjb250YSllIG7Do28gbGVt \\\n",
    "YnJvIGEgc2VuaGEsIFBPUkZBVk9SIENPTU8gUE9TU08gRkFaRVIgUEFSQS1NRSBDQURBU1RSQVIg \\\n",
    "Tk9WQU1FTlRFIENPTSBPVVRSTyBFLU1BSUwsIFBPUiBGQVZPUiBNRSBBSlVERSwgRVUgUVVFUk8g \\\n",
    "TVVJVE8gTUVTTU8gUEFSVElDSVBBUiBEQSBQUk9WQS4gZXUgcGXDp28gc3VhIGFqdWRhIGUgZ3Jh \\\n",
    "dGEgYW50ZWNpcGFkYW1lbnRlIHBlbGEgc3VhIGFqdWRhIFBPUkZBVk9SLjxici8+T3UgcG9yIGZh \\\n",
    "dm9yIG1lIGRpZ2EgY29tbyBldSBwb3NzbyBmYWxhciBjb20gdm9jw6pzLjxici8+TWV1IGUtbWFp \\\n",
    "bCBhdHVhbCBtaV9hbmdlbF9lc3Blam9AaG90bWFpbC5jb208L2Rpdj4gICAgCiAgICA8L2Rpdj4K \\\n",
    "ICA8L2JvZHk+CjwvaHRtbD4K'\n",
    "email_body = base64.b64decode(body)\n",
    "print email_body"
   ]
  },
  {
   "cell_type": "markdown",
   "metadata": {},
   "source": [
    "#### Parse and extract relevant features from email body"
   ]
  },
  {
   "cell_type": "code",
   "execution_count": 96,
   "metadata": {
    "collapsed": false
   },
   "outputs": [],
   "source": [
    "from pyquery import PyQuery\n",
    "import unicodedata"
   ]
  },
  {
   "cell_type": "code",
   "execution_count": 106,
   "metadata": {
    "collapsed": true
   },
   "outputs": [],
   "source": [
    "def unicode_normalize(text):\n",
    "    return unicodedata.normalize('NFKD', text).encode('ascii','ignore')"
   ]
  },
  {
   "cell_type": "code",
   "execution_count": 107,
   "metadata": {
    "collapsed": false
   },
   "outputs": [],
   "source": [
    "def parse_email(email_body):\n",
    "    email_parser = PyQuery(email_body)\n",
    "    email_fields = [span.text for span in email_parser('div>span')]\n",
    "    \n",
    "    feature_names = ['remetente', 'email', 'assunto', 'tipo', 'data_envio', 'respondida?']\n",
    "    features = dict(zip(feature_names, email_fields))\n",
    "    \n",
    "    features['mensagem'] = unicode_normalize(email_parser('div>div').text())\n",
    "    return features"
   ]
  },
  {
   "cell_type": "code",
   "execution_count": 108,
   "metadata": {
    "collapsed": false
   },
   "outputs": [
    {
     "name": "stdout",
     "output_type": "stream",
     "text": [
      "Boa noite, por favor eu quero participar de O Exame Nacional de Revalidacao de Diplomas Medicos Expedidos por Instituicoes de Educacao Superior Estrangeiras  REVALIDA 2014, mais nao posso fazer minha inscricao por que no ano passado quis fazer minha inscricao pero foi tarde demais e o cadastro que fiz foi com um e-mail que perdi (perdi a conta)e nao lembro a senha, PORFAVOR COMO POSSO FAZER PARA-ME CADASTRAR NOVAMENTE COM OUTRO E-MAIL, POR FAVOR ME AJUDE, EU QUERO MUITO MESMO PARTICIPAR DA PROVA. eu peco sua ajuda e grata antecipadamente pela sua ajuda PORFAVOR. Ou por favor me diga como eu posso falar com voces. Meu e-mail atual mi_angel_espejo@hotmail.com\n"
     ]
    }
   ],
   "source": [
    "email_features = parse_email(email_body)\n",
    "print email_features['mensagem']"
   ]
  },
  {
   "cell_type": "markdown",
   "metadata": {},
   "source": [
    "#### Process text"
   ]
  },
  {
   "cell_type": "code",
   "execution_count": 101,
   "metadata": {
    "collapsed": false
   },
   "outputs": [],
   "source": [
    "import nltk"
   ]
  },
  {
   "cell_type": "code",
   "execution_count": 102,
   "metadata": {
    "collapsed": false
   },
   "outputs": [
    {
     "name": "stdout",
     "output_type": "stream",
     "text": [
      "[nltk_data] Downloading package stopwords to\n",
      "[nltk_data]     /Users/wendell/nltk_data...\n",
      "[nltk_data]   Unzipping corpora/stopwords.zip.\n"
     ]
    },
    {
     "data": {
      "text/plain": [
       "True"
      ]
     },
     "execution_count": 102,
     "metadata": {},
     "output_type": "execute_result"
    }
   ],
   "source": [
    "nltk.download('stopwords')"
   ]
  },
  {
   "cell_type": "code",
   "execution_count": null,
   "metadata": {
    "collapsed": true
   },
   "outputs": [],
   "source": []
  }
 ],
 "metadata": {
  "kernelspec": {
   "display_name": "Python 2",
   "language": "python",
   "name": "python2"
  },
  "language_info": {
   "codemirror_mode": {
    "name": "ipython",
    "version": 2
   },
   "file_extension": ".py",
   "mimetype": "text/x-python",
   "name": "python",
   "nbconvert_exporter": "python",
   "pygments_lexer": "ipython2",
   "version": "2.7.9"
  }
 },
 "nbformat": 4,
 "nbformat_minor": 0
}
